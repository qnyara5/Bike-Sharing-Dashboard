{
  "cells": [
    {
      "cell_type": "markdown",
      "metadata": {
        "id": "H9wADwK78DCz"
      },
      "source": [
        "# Proyek Analisis Data: [Input Nama Dataset]\n",
        "- **Nama:** Tiara Fitra Ramadhani Siregar\n",
        "- **Email:** tfitra77.tf@gmail.com\n",
        "- **ID Dicoding:** tiarafrs2002"
      ]
    },
    {
      "cell_type": "markdown",
      "metadata": {
        "id": "eE0raob58DC0"
      },
      "source": [
        "## Menentukan Pertanyaan Bisnis"
      ]
    },
    {
      "cell_type": "markdown",
      "metadata": {
        "id": "GmQeQ5YF8DC0"
      },
      "source": [
        "- Pada musim dan cuaca apa jumlah penyewaan sepeda tertinggi dan terendah?\n",
        "- Kapan waktu puncak penggunaan sepeda dalam sehari? \n",
        "- Bagaimana tren pertumbuhan pengguna dari tahun 2011 ke 2012?"
      ]
    },
    {
      "cell_type": "markdown",
      "metadata": {
        "id": "H-z4QGlO8DC1"
      },
      "source": [
        "## Import Semua Packages/Library yang Digunakan"
      ]
    },
    {
      "cell_type": "code",
      "execution_count": 84,
      "metadata": {
        "id": "FVYwaObI8DC1"
      },
      "outputs": [],
      "source": [
        "import numpy as np\n",
        "import pandas as pd\n",
        "import matplotlib.pyplot as plt\n",
        "import seaborn as sns"
      ]
    },
    {
      "cell_type": "markdown",
      "metadata": {
        "id": "h_Sh51Xy8DC1"
      },
      "source": [
        "## Data Wrangling"
      ]
    },
    {
      "cell_type": "markdown",
      "metadata": {
        "id": "sXU2GBYu8DC1"
      },
      "source": [
        "### Gathering Data"
      ]
    },
    {
      "cell_type": "markdown",
      "metadata": {},
      "source": [
        "Pada submisi Belajar Analisis Data dengan Python, saya menggunakan dataset Bike Sharing. Dataset ini terdiri dari 2 file, yaitu day.csv dan hour.csv"
      ]
    },
    {
      "cell_type": "code",
      "execution_count": 85,
      "metadata": {
        "id": "zjCBk1BI8DC1"
      },
      "outputs": [],
      "source": [
        "day_df = pd.read_csv('./data/day.csv')\n",
        "hour_df = pd.read_csv('./data/hour.csv')"
      ]
    },
    {
      "cell_type": "code",
      "execution_count": 86,
      "metadata": {},
      "outputs": [
        {
          "data": {
            "text/html": [
              "<div>\n",
              "<style scoped>\n",
              "    .dataframe tbody tr th:only-of-type {\n",
              "        vertical-align: middle;\n",
              "    }\n",
              "\n",
              "    .dataframe tbody tr th {\n",
              "        vertical-align: top;\n",
              "    }\n",
              "\n",
              "    .dataframe thead th {\n",
              "        text-align: right;\n",
              "    }\n",
              "</style>\n",
              "<table border=\"1\" class=\"dataframe\">\n",
              "  <thead>\n",
              "    <tr style=\"text-align: right;\">\n",
              "      <th></th>\n",
              "      <th>instant</th>\n",
              "      <th>dteday</th>\n",
              "      <th>season</th>\n",
              "      <th>yr</th>\n",
              "      <th>mnth</th>\n",
              "      <th>holiday</th>\n",
              "      <th>weekday</th>\n",
              "      <th>workingday</th>\n",
              "      <th>weathersit</th>\n",
              "      <th>temp</th>\n",
              "      <th>atemp</th>\n",
              "      <th>hum</th>\n",
              "      <th>windspeed</th>\n",
              "      <th>casual</th>\n",
              "      <th>registered</th>\n",
              "      <th>cnt</th>\n",
              "    </tr>\n",
              "  </thead>\n",
              "  <tbody>\n",
              "    <tr>\n",
              "      <th>0</th>\n",
              "      <td>1</td>\n",
              "      <td>2011-01-01</td>\n",
              "      <td>1</td>\n",
              "      <td>0</td>\n",
              "      <td>1</td>\n",
              "      <td>0</td>\n",
              "      <td>6</td>\n",
              "      <td>0</td>\n",
              "      <td>2</td>\n",
              "      <td>0.344167</td>\n",
              "      <td>0.363625</td>\n",
              "      <td>0.805833</td>\n",
              "      <td>0.160446</td>\n",
              "      <td>331</td>\n",
              "      <td>654</td>\n",
              "      <td>985</td>\n",
              "    </tr>\n",
              "    <tr>\n",
              "      <th>1</th>\n",
              "      <td>2</td>\n",
              "      <td>2011-01-02</td>\n",
              "      <td>1</td>\n",
              "      <td>0</td>\n",
              "      <td>1</td>\n",
              "      <td>0</td>\n",
              "      <td>0</td>\n",
              "      <td>0</td>\n",
              "      <td>2</td>\n",
              "      <td>0.363478</td>\n",
              "      <td>0.353739</td>\n",
              "      <td>0.696087</td>\n",
              "      <td>0.248539</td>\n",
              "      <td>131</td>\n",
              "      <td>670</td>\n",
              "      <td>801</td>\n",
              "    </tr>\n",
              "    <tr>\n",
              "      <th>2</th>\n",
              "      <td>3</td>\n",
              "      <td>2011-01-03</td>\n",
              "      <td>1</td>\n",
              "      <td>0</td>\n",
              "      <td>1</td>\n",
              "      <td>0</td>\n",
              "      <td>1</td>\n",
              "      <td>1</td>\n",
              "      <td>1</td>\n",
              "      <td>0.196364</td>\n",
              "      <td>0.189405</td>\n",
              "      <td>0.437273</td>\n",
              "      <td>0.248309</td>\n",
              "      <td>120</td>\n",
              "      <td>1229</td>\n",
              "      <td>1349</td>\n",
              "    </tr>\n",
              "    <tr>\n",
              "      <th>3</th>\n",
              "      <td>4</td>\n",
              "      <td>2011-01-04</td>\n",
              "      <td>1</td>\n",
              "      <td>0</td>\n",
              "      <td>1</td>\n",
              "      <td>0</td>\n",
              "      <td>2</td>\n",
              "      <td>1</td>\n",
              "      <td>1</td>\n",
              "      <td>0.200000</td>\n",
              "      <td>0.212122</td>\n",
              "      <td>0.590435</td>\n",
              "      <td>0.160296</td>\n",
              "      <td>108</td>\n",
              "      <td>1454</td>\n",
              "      <td>1562</td>\n",
              "    </tr>\n",
              "    <tr>\n",
              "      <th>4</th>\n",
              "      <td>5</td>\n",
              "      <td>2011-01-05</td>\n",
              "      <td>1</td>\n",
              "      <td>0</td>\n",
              "      <td>1</td>\n",
              "      <td>0</td>\n",
              "      <td>3</td>\n",
              "      <td>1</td>\n",
              "      <td>1</td>\n",
              "      <td>0.226957</td>\n",
              "      <td>0.229270</td>\n",
              "      <td>0.436957</td>\n",
              "      <td>0.186900</td>\n",
              "      <td>82</td>\n",
              "      <td>1518</td>\n",
              "      <td>1600</td>\n",
              "    </tr>\n",
              "  </tbody>\n",
              "</table>\n",
              "</div>"
            ],
            "text/plain": [
              "   instant      dteday  season  yr  mnth  holiday  weekday  workingday  \\\n",
              "0        1  2011-01-01       1   0     1        0        6           0   \n",
              "1        2  2011-01-02       1   0     1        0        0           0   \n",
              "2        3  2011-01-03       1   0     1        0        1           1   \n",
              "3        4  2011-01-04       1   0     1        0        2           1   \n",
              "4        5  2011-01-05       1   0     1        0        3           1   \n",
              "\n",
              "   weathersit      temp     atemp       hum  windspeed  casual  registered  \\\n",
              "0           2  0.344167  0.363625  0.805833   0.160446     331         654   \n",
              "1           2  0.363478  0.353739  0.696087   0.248539     131         670   \n",
              "2           1  0.196364  0.189405  0.437273   0.248309     120        1229   \n",
              "3           1  0.200000  0.212122  0.590435   0.160296     108        1454   \n",
              "4           1  0.226957  0.229270  0.436957   0.186900      82        1518   \n",
              "\n",
              "    cnt  \n",
              "0   985  \n",
              "1   801  \n",
              "2  1349  \n",
              "3  1562  \n",
              "4  1600  "
            ]
          },
          "execution_count": 86,
          "metadata": {},
          "output_type": "execute_result"
        }
      ],
      "source": [
        "day_df.head()"
      ]
    },
    {
      "cell_type": "code",
      "execution_count": 87,
      "metadata": {},
      "outputs": [
        {
          "data": {
            "text/html": [
              "<div>\n",
              "<style scoped>\n",
              "    .dataframe tbody tr th:only-of-type {\n",
              "        vertical-align: middle;\n",
              "    }\n",
              "\n",
              "    .dataframe tbody tr th {\n",
              "        vertical-align: top;\n",
              "    }\n",
              "\n",
              "    .dataframe thead th {\n",
              "        text-align: right;\n",
              "    }\n",
              "</style>\n",
              "<table border=\"1\" class=\"dataframe\">\n",
              "  <thead>\n",
              "    <tr style=\"text-align: right;\">\n",
              "      <th></th>\n",
              "      <th>instant</th>\n",
              "      <th>dteday</th>\n",
              "      <th>season</th>\n",
              "      <th>yr</th>\n",
              "      <th>mnth</th>\n",
              "      <th>hr</th>\n",
              "      <th>holiday</th>\n",
              "      <th>weekday</th>\n",
              "      <th>workingday</th>\n",
              "      <th>weathersit</th>\n",
              "      <th>temp</th>\n",
              "      <th>atemp</th>\n",
              "      <th>hum</th>\n",
              "      <th>windspeed</th>\n",
              "      <th>casual</th>\n",
              "      <th>registered</th>\n",
              "      <th>cnt</th>\n",
              "    </tr>\n",
              "  </thead>\n",
              "  <tbody>\n",
              "    <tr>\n",
              "      <th>0</th>\n",
              "      <td>1</td>\n",
              "      <td>2011-01-01</td>\n",
              "      <td>1</td>\n",
              "      <td>0</td>\n",
              "      <td>1</td>\n",
              "      <td>0</td>\n",
              "      <td>0</td>\n",
              "      <td>6</td>\n",
              "      <td>0</td>\n",
              "      <td>1</td>\n",
              "      <td>0.24</td>\n",
              "      <td>0.2879</td>\n",
              "      <td>0.81</td>\n",
              "      <td>0.0</td>\n",
              "      <td>3</td>\n",
              "      <td>13</td>\n",
              "      <td>16</td>\n",
              "    </tr>\n",
              "    <tr>\n",
              "      <th>1</th>\n",
              "      <td>2</td>\n",
              "      <td>2011-01-01</td>\n",
              "      <td>1</td>\n",
              "      <td>0</td>\n",
              "      <td>1</td>\n",
              "      <td>1</td>\n",
              "      <td>0</td>\n",
              "      <td>6</td>\n",
              "      <td>0</td>\n",
              "      <td>1</td>\n",
              "      <td>0.22</td>\n",
              "      <td>0.2727</td>\n",
              "      <td>0.80</td>\n",
              "      <td>0.0</td>\n",
              "      <td>8</td>\n",
              "      <td>32</td>\n",
              "      <td>40</td>\n",
              "    </tr>\n",
              "    <tr>\n",
              "      <th>2</th>\n",
              "      <td>3</td>\n",
              "      <td>2011-01-01</td>\n",
              "      <td>1</td>\n",
              "      <td>0</td>\n",
              "      <td>1</td>\n",
              "      <td>2</td>\n",
              "      <td>0</td>\n",
              "      <td>6</td>\n",
              "      <td>0</td>\n",
              "      <td>1</td>\n",
              "      <td>0.22</td>\n",
              "      <td>0.2727</td>\n",
              "      <td>0.80</td>\n",
              "      <td>0.0</td>\n",
              "      <td>5</td>\n",
              "      <td>27</td>\n",
              "      <td>32</td>\n",
              "    </tr>\n",
              "    <tr>\n",
              "      <th>3</th>\n",
              "      <td>4</td>\n",
              "      <td>2011-01-01</td>\n",
              "      <td>1</td>\n",
              "      <td>0</td>\n",
              "      <td>1</td>\n",
              "      <td>3</td>\n",
              "      <td>0</td>\n",
              "      <td>6</td>\n",
              "      <td>0</td>\n",
              "      <td>1</td>\n",
              "      <td>0.24</td>\n",
              "      <td>0.2879</td>\n",
              "      <td>0.75</td>\n",
              "      <td>0.0</td>\n",
              "      <td>3</td>\n",
              "      <td>10</td>\n",
              "      <td>13</td>\n",
              "    </tr>\n",
              "    <tr>\n",
              "      <th>4</th>\n",
              "      <td>5</td>\n",
              "      <td>2011-01-01</td>\n",
              "      <td>1</td>\n",
              "      <td>0</td>\n",
              "      <td>1</td>\n",
              "      <td>4</td>\n",
              "      <td>0</td>\n",
              "      <td>6</td>\n",
              "      <td>0</td>\n",
              "      <td>1</td>\n",
              "      <td>0.24</td>\n",
              "      <td>0.2879</td>\n",
              "      <td>0.75</td>\n",
              "      <td>0.0</td>\n",
              "      <td>0</td>\n",
              "      <td>1</td>\n",
              "      <td>1</td>\n",
              "    </tr>\n",
              "  </tbody>\n",
              "</table>\n",
              "</div>"
            ],
            "text/plain": [
              "   instant      dteday  season  yr  mnth  hr  holiday  weekday  workingday  \\\n",
              "0        1  2011-01-01       1   0     1   0        0        6           0   \n",
              "1        2  2011-01-01       1   0     1   1        0        6           0   \n",
              "2        3  2011-01-01       1   0     1   2        0        6           0   \n",
              "3        4  2011-01-01       1   0     1   3        0        6           0   \n",
              "4        5  2011-01-01       1   0     1   4        0        6           0   \n",
              "\n",
              "   weathersit  temp   atemp   hum  windspeed  casual  registered  cnt  \n",
              "0           1  0.24  0.2879  0.81        0.0       3          13   16  \n",
              "1           1  0.22  0.2727  0.80        0.0       8          32   40  \n",
              "2           1  0.22  0.2727  0.80        0.0       5          27   32  \n",
              "3           1  0.24  0.2879  0.75        0.0       3          10   13  \n",
              "4           1  0.24  0.2879  0.75        0.0       0           1    1  "
            ]
          },
          "execution_count": 87,
          "metadata": {},
          "output_type": "execute_result"
        }
      ],
      "source": [
        "hour_df.head()"
      ]
    },
    {
      "cell_type": "markdown",
      "metadata": {
        "id": "MMi6xGaDkbCi"
      },
      "source": [
        "**Insight:**\n",
        "Dataset ini berisi jumlah penyewaan sepeda per jam dan per hari antara tahun 2011 dan 2012 dalam sistem Capital Bike Share, serta dilengkapi dengan informasi cuaca dan musim. Terdapat dua file dalam dataset ini: day.csv (data per hari) dan hour.csv (data per jam). Semua atribut terdapat di kedua file, kecuali atribut hr yang hanya terdapat di hour.csv\n",
        "\n",
        "**Deskripsi Atribut:**\n",
        "1. instant: Indeks data (urutan rekaman).\n",
        "2. dteday: Tanggal pencatatan.\n",
        "3. season: Musim dalam setahun:\n",
        "    - 1: Musim semi (Spring)\n",
        "    - 2: Musim panas (Summer)\n",
        "    - 3: Musim gugur (Fall)\n",
        "    - 4: Musim dingin (Winter)\n",
        "4. yr: Tahun pencatatan:\n",
        "    - 0: Tahun 2011\n",
        "    - 1: Tahun 2012\n",
        "5. mnth: Bulan dalam setahun (1–12).\n",
        "6. hr: Jam dalam sehari (0–23) (hanya ada di hour.csv).\n",
        "7. holiday: Indikator apakah hari tersebut adalah hari libur:\n",
        "    - 1: Hari libur\n",
        "    - 0: Bukan hari libur\n",
        "8. weekday: Hari dalam seminggu (0–6, dengan 0 sebagai Minggu).\n",
        "9. workingday: Indikator apakah hari tersebut adalah hari kerja:\n",
        "    - 1: Hari kerja (bukan akhir pekan atau hari libur)\n",
        "    - 0: Akhir pekan atau hari libur\n",
        "10. weathersit: Kondisi cuaca saat pencatatan:\n",
        "    - 1: Cerah, sedikit berawan, atau berawan sebagian\n",
        "    - 2: Berkabut dengan awan, mendung, atau sedikit berawan\n",
        "    - 3: Hujan ringan, salju ringan, atau badai petir dengan awan tersebar\n",
        "    - 4: Hujan lebat, es, badai petir, atau salju tebal\n",
        "11. temp: Suhu yang telah dinormalisasi (dalam Celsius), dihitung berdasarkan rumus: (t-t_min)/(t_max-t_min), dengan t_min = -8°C dan t_max = 39°C (hanya untuk data per jam).\n",
        "12. atemp: Suhu yang dirasakan (dalam Celsius), dinormalisasi dengan rumus serupa: (t-t_min)/(t_max-t_min), dengan t_min = -16°C dan t_max = 50°C (hanya untuk data per jam).\n",
        "13. hum: Tingkat kelembapan udara yang telah dinormalisasi (dibagi 100).\n",
        "14. windspeed: Kecepatan angin yang telah dinormalisasi (dibagi 67).\n",
        "15. casual: Jumlah pengguna sepeda yang tidak terdaftar (pengguna umum).\n",
        "16. registered: Jumlah pengguna sepeda yang terdaftar sebagai anggota.\n",
        "17. cnt: Jumlah total penyewaan sepeda (baik pengguna umum maupun terdaftar).\n",
        "\n"
      ]
    },
    {
      "cell_type": "markdown",
      "metadata": {
        "id": "FHSiqaZp8DC1"
      },
      "source": [
        "### Assessing Data"
      ]
    },
    {
      "cell_type": "markdown",
      "metadata": {},
      "source": [
        "##### Menilai Data day_df"
      ]
    },
    {
      "cell_type": "code",
      "execution_count": 88,
      "metadata": {
        "id": "ax-3tEjc9Cj1"
      },
      "outputs": [
        {
          "name": "stdout",
          "output_type": "stream",
          "text": [
            "<class 'pandas.core.frame.DataFrame'>\n",
            "RangeIndex: 731 entries, 0 to 730\n",
            "Data columns (total 16 columns):\n",
            " #   Column      Non-Null Count  Dtype  \n",
            "---  ------      --------------  -----  \n",
            " 0   instant     731 non-null    int64  \n",
            " 1   dteday      731 non-null    object \n",
            " 2   season      731 non-null    int64  \n",
            " 3   yr          731 non-null    int64  \n",
            " 4   mnth        731 non-null    int64  \n",
            " 5   holiday     731 non-null    int64  \n",
            " 6   weekday     731 non-null    int64  \n",
            " 7   workingday  731 non-null    int64  \n",
            " 8   weathersit  731 non-null    int64  \n",
            " 9   temp        731 non-null    float64\n",
            " 10  atemp       731 non-null    float64\n",
            " 11  hum         731 non-null    float64\n",
            " 12  windspeed   731 non-null    float64\n",
            " 13  casual      731 non-null    int64  \n",
            " 14  registered  731 non-null    int64  \n",
            " 15  cnt         731 non-null    int64  \n",
            "dtypes: float64(4), int64(11), object(1)\n",
            "memory usage: 91.5+ KB\n"
          ]
        }
      ],
      "source": [
        "day_df.info()"
      ]
    },
    {
      "cell_type": "markdown",
      "metadata": {
        "id": "7dtxhAPrkhPL"
      },
      "source": [
        "**Insight:**\n",
        "\n",
        "Berdasarkan informasi dari day_df, jumlah data non-null di setiap kolom adalah sama yaitu 731 data. Sehingga dapat diketahui bahwa tidak ada missing values di setiap kolom. Namun, kolom dteday seharusnya bertipe data datetime karena merupakan atribut tanggal pencatatan."
      ]
    },
    {
      "cell_type": "code",
      "execution_count": 89,
      "metadata": {},
      "outputs": [
        {
          "data": {
            "text/plain": [
              "instant       0\n",
              "dteday        0\n",
              "season        0\n",
              "yr            0\n",
              "mnth          0\n",
              "holiday       0\n",
              "weekday       0\n",
              "workingday    0\n",
              "weathersit    0\n",
              "temp          0\n",
              "atemp         0\n",
              "hum           0\n",
              "windspeed     0\n",
              "casual        0\n",
              "registered    0\n",
              "cnt           0\n",
              "dtype: int64"
            ]
          },
          "execution_count": 89,
          "metadata": {},
          "output_type": "execute_result"
        }
      ],
      "source": [
        "day_df.isna().sum()"
      ]
    },
    {
      "cell_type": "markdown",
      "metadata": {},
      "source": [
        "**Insight:**\n",
        "\n",
        "Tidak terdapat nilai null dalam setiap kolom pada data day_df"
      ]
    },
    {
      "cell_type": "code",
      "execution_count": 90,
      "metadata": {},
      "outputs": [
        {
          "name": "stdout",
          "output_type": "stream",
          "text": [
            "Jumlah duplikasi:  0\n"
          ]
        }
      ],
      "source": [
        "print(\"Jumlah duplikasi: \", day_df.duplicated().sum())"
      ]
    },
    {
      "cell_type": "markdown",
      "metadata": {},
      "source": [
        "**Insight:**\n",
        "\n",
        "Tidak terdapat data duplikasi pada data day_df"
      ]
    },
    {
      "cell_type": "code",
      "execution_count": 91,
      "metadata": {},
      "outputs": [
        {
          "data": {
            "text/html": [
              "<div>\n",
              "<style scoped>\n",
              "    .dataframe tbody tr th:only-of-type {\n",
              "        vertical-align: middle;\n",
              "    }\n",
              "\n",
              "    .dataframe tbody tr th {\n",
              "        vertical-align: top;\n",
              "    }\n",
              "\n",
              "    .dataframe thead th {\n",
              "        text-align: right;\n",
              "    }\n",
              "</style>\n",
              "<table border=\"1\" class=\"dataframe\">\n",
              "  <thead>\n",
              "    <tr style=\"text-align: right;\">\n",
              "      <th></th>\n",
              "      <th>instant</th>\n",
              "      <th>dteday</th>\n",
              "      <th>season</th>\n",
              "      <th>yr</th>\n",
              "      <th>mnth</th>\n",
              "      <th>holiday</th>\n",
              "      <th>weekday</th>\n",
              "      <th>workingday</th>\n",
              "      <th>weathersit</th>\n",
              "      <th>temp</th>\n",
              "      <th>atemp</th>\n",
              "      <th>hum</th>\n",
              "      <th>windspeed</th>\n",
              "      <th>casual</th>\n",
              "      <th>registered</th>\n",
              "      <th>cnt</th>\n",
              "    </tr>\n",
              "  </thead>\n",
              "  <tbody>\n",
              "    <tr>\n",
              "      <th>count</th>\n",
              "      <td>731.000000</td>\n",
              "      <td>731</td>\n",
              "      <td>731.000000</td>\n",
              "      <td>731.000000</td>\n",
              "      <td>731.000000</td>\n",
              "      <td>731.000000</td>\n",
              "      <td>731.000000</td>\n",
              "      <td>731.000000</td>\n",
              "      <td>731.000000</td>\n",
              "      <td>731.000000</td>\n",
              "      <td>731.000000</td>\n",
              "      <td>731.000000</td>\n",
              "      <td>731.000000</td>\n",
              "      <td>731.000000</td>\n",
              "      <td>731.000000</td>\n",
              "      <td>731.000000</td>\n",
              "    </tr>\n",
              "    <tr>\n",
              "      <th>unique</th>\n",
              "      <td>NaN</td>\n",
              "      <td>731</td>\n",
              "      <td>NaN</td>\n",
              "      <td>NaN</td>\n",
              "      <td>NaN</td>\n",
              "      <td>NaN</td>\n",
              "      <td>NaN</td>\n",
              "      <td>NaN</td>\n",
              "      <td>NaN</td>\n",
              "      <td>NaN</td>\n",
              "      <td>NaN</td>\n",
              "      <td>NaN</td>\n",
              "      <td>NaN</td>\n",
              "      <td>NaN</td>\n",
              "      <td>NaN</td>\n",
              "      <td>NaN</td>\n",
              "    </tr>\n",
              "    <tr>\n",
              "      <th>top</th>\n",
              "      <td>NaN</td>\n",
              "      <td>2012-12-31</td>\n",
              "      <td>NaN</td>\n",
              "      <td>NaN</td>\n",
              "      <td>NaN</td>\n",
              "      <td>NaN</td>\n",
              "      <td>NaN</td>\n",
              "      <td>NaN</td>\n",
              "      <td>NaN</td>\n",
              "      <td>NaN</td>\n",
              "      <td>NaN</td>\n",
              "      <td>NaN</td>\n",
              "      <td>NaN</td>\n",
              "      <td>NaN</td>\n",
              "      <td>NaN</td>\n",
              "      <td>NaN</td>\n",
              "    </tr>\n",
              "    <tr>\n",
              "      <th>freq</th>\n",
              "      <td>NaN</td>\n",
              "      <td>1</td>\n",
              "      <td>NaN</td>\n",
              "      <td>NaN</td>\n",
              "      <td>NaN</td>\n",
              "      <td>NaN</td>\n",
              "      <td>NaN</td>\n",
              "      <td>NaN</td>\n",
              "      <td>NaN</td>\n",
              "      <td>NaN</td>\n",
              "      <td>NaN</td>\n",
              "      <td>NaN</td>\n",
              "      <td>NaN</td>\n",
              "      <td>NaN</td>\n",
              "      <td>NaN</td>\n",
              "      <td>NaN</td>\n",
              "    </tr>\n",
              "    <tr>\n",
              "      <th>mean</th>\n",
              "      <td>366.000000</td>\n",
              "      <td>NaN</td>\n",
              "      <td>2.496580</td>\n",
              "      <td>0.500684</td>\n",
              "      <td>6.519836</td>\n",
              "      <td>0.028728</td>\n",
              "      <td>2.997264</td>\n",
              "      <td>0.683995</td>\n",
              "      <td>1.395349</td>\n",
              "      <td>0.495385</td>\n",
              "      <td>0.474354</td>\n",
              "      <td>0.627894</td>\n",
              "      <td>0.190486</td>\n",
              "      <td>848.176471</td>\n",
              "      <td>3656.172367</td>\n",
              "      <td>4504.348837</td>\n",
              "    </tr>\n",
              "    <tr>\n",
              "      <th>std</th>\n",
              "      <td>211.165812</td>\n",
              "      <td>NaN</td>\n",
              "      <td>1.110807</td>\n",
              "      <td>0.500342</td>\n",
              "      <td>3.451913</td>\n",
              "      <td>0.167155</td>\n",
              "      <td>2.004787</td>\n",
              "      <td>0.465233</td>\n",
              "      <td>0.544894</td>\n",
              "      <td>0.183051</td>\n",
              "      <td>0.162961</td>\n",
              "      <td>0.142429</td>\n",
              "      <td>0.077498</td>\n",
              "      <td>686.622488</td>\n",
              "      <td>1560.256377</td>\n",
              "      <td>1937.211452</td>\n",
              "    </tr>\n",
              "    <tr>\n",
              "      <th>min</th>\n",
              "      <td>1.000000</td>\n",
              "      <td>NaN</td>\n",
              "      <td>1.000000</td>\n",
              "      <td>0.000000</td>\n",
              "      <td>1.000000</td>\n",
              "      <td>0.000000</td>\n",
              "      <td>0.000000</td>\n",
              "      <td>0.000000</td>\n",
              "      <td>1.000000</td>\n",
              "      <td>0.059130</td>\n",
              "      <td>0.079070</td>\n",
              "      <td>0.000000</td>\n",
              "      <td>0.022392</td>\n",
              "      <td>2.000000</td>\n",
              "      <td>20.000000</td>\n",
              "      <td>22.000000</td>\n",
              "    </tr>\n",
              "    <tr>\n",
              "      <th>25%</th>\n",
              "      <td>183.500000</td>\n",
              "      <td>NaN</td>\n",
              "      <td>2.000000</td>\n",
              "      <td>0.000000</td>\n",
              "      <td>4.000000</td>\n",
              "      <td>0.000000</td>\n",
              "      <td>1.000000</td>\n",
              "      <td>0.000000</td>\n",
              "      <td>1.000000</td>\n",
              "      <td>0.337083</td>\n",
              "      <td>0.337842</td>\n",
              "      <td>0.520000</td>\n",
              "      <td>0.134950</td>\n",
              "      <td>315.500000</td>\n",
              "      <td>2497.000000</td>\n",
              "      <td>3152.000000</td>\n",
              "    </tr>\n",
              "    <tr>\n",
              "      <th>50%</th>\n",
              "      <td>366.000000</td>\n",
              "      <td>NaN</td>\n",
              "      <td>3.000000</td>\n",
              "      <td>1.000000</td>\n",
              "      <td>7.000000</td>\n",
              "      <td>0.000000</td>\n",
              "      <td>3.000000</td>\n",
              "      <td>1.000000</td>\n",
              "      <td>1.000000</td>\n",
              "      <td>0.498333</td>\n",
              "      <td>0.486733</td>\n",
              "      <td>0.626667</td>\n",
              "      <td>0.180975</td>\n",
              "      <td>713.000000</td>\n",
              "      <td>3662.000000</td>\n",
              "      <td>4548.000000</td>\n",
              "    </tr>\n",
              "    <tr>\n",
              "      <th>75%</th>\n",
              "      <td>548.500000</td>\n",
              "      <td>NaN</td>\n",
              "      <td>3.000000</td>\n",
              "      <td>1.000000</td>\n",
              "      <td>10.000000</td>\n",
              "      <td>0.000000</td>\n",
              "      <td>5.000000</td>\n",
              "      <td>1.000000</td>\n",
              "      <td>2.000000</td>\n",
              "      <td>0.655417</td>\n",
              "      <td>0.608602</td>\n",
              "      <td>0.730209</td>\n",
              "      <td>0.233214</td>\n",
              "      <td>1096.000000</td>\n",
              "      <td>4776.500000</td>\n",
              "      <td>5956.000000</td>\n",
              "    </tr>\n",
              "    <tr>\n",
              "      <th>max</th>\n",
              "      <td>731.000000</td>\n",
              "      <td>NaN</td>\n",
              "      <td>4.000000</td>\n",
              "      <td>1.000000</td>\n",
              "      <td>12.000000</td>\n",
              "      <td>1.000000</td>\n",
              "      <td>6.000000</td>\n",
              "      <td>1.000000</td>\n",
              "      <td>3.000000</td>\n",
              "      <td>0.861667</td>\n",
              "      <td>0.840896</td>\n",
              "      <td>0.972500</td>\n",
              "      <td>0.507463</td>\n",
              "      <td>3410.000000</td>\n",
              "      <td>6946.000000</td>\n",
              "      <td>8714.000000</td>\n",
              "    </tr>\n",
              "  </tbody>\n",
              "</table>\n",
              "</div>"
            ],
            "text/plain": [
              "           instant      dteday      season          yr        mnth  \\\n",
              "count   731.000000         731  731.000000  731.000000  731.000000   \n",
              "unique         NaN         731         NaN         NaN         NaN   \n",
              "top            NaN  2012-12-31         NaN         NaN         NaN   \n",
              "freq           NaN           1         NaN         NaN         NaN   \n",
              "mean    366.000000         NaN    2.496580    0.500684    6.519836   \n",
              "std     211.165812         NaN    1.110807    0.500342    3.451913   \n",
              "min       1.000000         NaN    1.000000    0.000000    1.000000   \n",
              "25%     183.500000         NaN    2.000000    0.000000    4.000000   \n",
              "50%     366.000000         NaN    3.000000    1.000000    7.000000   \n",
              "75%     548.500000         NaN    3.000000    1.000000   10.000000   \n",
              "max     731.000000         NaN    4.000000    1.000000   12.000000   \n",
              "\n",
              "           holiday     weekday  workingday  weathersit        temp  \\\n",
              "count   731.000000  731.000000  731.000000  731.000000  731.000000   \n",
              "unique         NaN         NaN         NaN         NaN         NaN   \n",
              "top            NaN         NaN         NaN         NaN         NaN   \n",
              "freq           NaN         NaN         NaN         NaN         NaN   \n",
              "mean      0.028728    2.997264    0.683995    1.395349    0.495385   \n",
              "std       0.167155    2.004787    0.465233    0.544894    0.183051   \n",
              "min       0.000000    0.000000    0.000000    1.000000    0.059130   \n",
              "25%       0.000000    1.000000    0.000000    1.000000    0.337083   \n",
              "50%       0.000000    3.000000    1.000000    1.000000    0.498333   \n",
              "75%       0.000000    5.000000    1.000000    2.000000    0.655417   \n",
              "max       1.000000    6.000000    1.000000    3.000000    0.861667   \n",
              "\n",
              "             atemp         hum   windspeed       casual   registered  \\\n",
              "count   731.000000  731.000000  731.000000   731.000000   731.000000   \n",
              "unique         NaN         NaN         NaN          NaN          NaN   \n",
              "top            NaN         NaN         NaN          NaN          NaN   \n",
              "freq           NaN         NaN         NaN          NaN          NaN   \n",
              "mean      0.474354    0.627894    0.190486   848.176471  3656.172367   \n",
              "std       0.162961    0.142429    0.077498   686.622488  1560.256377   \n",
              "min       0.079070    0.000000    0.022392     2.000000    20.000000   \n",
              "25%       0.337842    0.520000    0.134950   315.500000  2497.000000   \n",
              "50%       0.486733    0.626667    0.180975   713.000000  3662.000000   \n",
              "75%       0.608602    0.730209    0.233214  1096.000000  4776.500000   \n",
              "max       0.840896    0.972500    0.507463  3410.000000  6946.000000   \n",
              "\n",
              "                cnt  \n",
              "count    731.000000  \n",
              "unique          NaN  \n",
              "top             NaN  \n",
              "freq            NaN  \n",
              "mean    4504.348837  \n",
              "std     1937.211452  \n",
              "min       22.000000  \n",
              "25%     3152.000000  \n",
              "50%     4548.000000  \n",
              "75%     5956.000000  \n",
              "max     8714.000000  "
            ]
          },
          "execution_count": 91,
          "metadata": {},
          "output_type": "execute_result"
        }
      ],
      "source": [
        "day_df.describe(include=\"all\")"
      ]
    },
    {
      "cell_type": "markdown",
      "metadata": {},
      "source": [
        "**Insight:**\n",
        "\n",
        "Berdasarkan hasil ringkasan parameter statistik di atas, tidak terdapat keanehan pada nilai statistik manapun."
      ]
    },
    {
      "cell_type": "markdown",
      "metadata": {},
      "source": [
        "##### Menilai Data hour_df"
      ]
    },
    {
      "cell_type": "code",
      "execution_count": 92,
      "metadata": {},
      "outputs": [
        {
          "name": "stdout",
          "output_type": "stream",
          "text": [
            "<class 'pandas.core.frame.DataFrame'>\n",
            "RangeIndex: 17379 entries, 0 to 17378\n",
            "Data columns (total 17 columns):\n",
            " #   Column      Non-Null Count  Dtype  \n",
            "---  ------      --------------  -----  \n",
            " 0   instant     17379 non-null  int64  \n",
            " 1   dteday      17379 non-null  object \n",
            " 2   season      17379 non-null  int64  \n",
            " 3   yr          17379 non-null  int64  \n",
            " 4   mnth        17379 non-null  int64  \n",
            " 5   hr          17379 non-null  int64  \n",
            " 6   holiday     17379 non-null  int64  \n",
            " 7   weekday     17379 non-null  int64  \n",
            " 8   workingday  17379 non-null  int64  \n",
            " 9   weathersit  17379 non-null  int64  \n",
            " 10  temp        17379 non-null  float64\n",
            " 11  atemp       17379 non-null  float64\n",
            " 12  hum         17379 non-null  float64\n",
            " 13  windspeed   17379 non-null  float64\n",
            " 14  casual      17379 non-null  int64  \n",
            " 15  registered  17379 non-null  int64  \n",
            " 16  cnt         17379 non-null  int64  \n",
            "dtypes: float64(4), int64(12), object(1)\n",
            "memory usage: 2.3+ MB\n"
          ]
        }
      ],
      "source": [
        "hour_df.info()"
      ]
    },
    {
      "cell_type": "markdown",
      "metadata": {},
      "source": [
        "**Insight:**\n",
        "\n",
        "Berdasarkan informasi dari data hour_df, jumlah data non-null di setiap kolom adalah sama yaitu 17379 data. Sehingga dapat diketahui bahwa tidak ada missing values di setiap kolom. Namun, kolom dteday seharusnya bertipe data datetime karena merupakan atribut tanggal pencatatan."
      ]
    },
    {
      "cell_type": "code",
      "execution_count": 93,
      "metadata": {},
      "outputs": [
        {
          "data": {
            "text/plain": [
              "instant       0\n",
              "dteday        0\n",
              "season        0\n",
              "yr            0\n",
              "mnth          0\n",
              "hr            0\n",
              "holiday       0\n",
              "weekday       0\n",
              "workingday    0\n",
              "weathersit    0\n",
              "temp          0\n",
              "atemp         0\n",
              "hum           0\n",
              "windspeed     0\n",
              "casual        0\n",
              "registered    0\n",
              "cnt           0\n",
              "dtype: int64"
            ]
          },
          "execution_count": 93,
          "metadata": {},
          "output_type": "execute_result"
        }
      ],
      "source": [
        "hour_df.isna().sum()"
      ]
    },
    {
      "cell_type": "markdown",
      "metadata": {},
      "source": [
        "**Insight:**\n",
        "\n",
        "Tidak terdapat nilai null dalam setiap kolom pada data hour_df"
      ]
    },
    {
      "cell_type": "code",
      "execution_count": 94,
      "metadata": {},
      "outputs": [
        {
          "name": "stdout",
          "output_type": "stream",
          "text": [
            "Jumlah duplikasi:  0\n"
          ]
        }
      ],
      "source": [
        "print(\"Jumlah duplikasi: \", hour_df.duplicated().sum())"
      ]
    },
    {
      "cell_type": "markdown",
      "metadata": {},
      "source": [
        "**Insight:**\n",
        "\n",
        "Tidak terdapat data duplikasi pada data hour_df"
      ]
    },
    {
      "cell_type": "code",
      "execution_count": 95,
      "metadata": {},
      "outputs": [
        {
          "data": {
            "text/html": [
              "<div>\n",
              "<style scoped>\n",
              "    .dataframe tbody tr th:only-of-type {\n",
              "        vertical-align: middle;\n",
              "    }\n",
              "\n",
              "    .dataframe tbody tr th {\n",
              "        vertical-align: top;\n",
              "    }\n",
              "\n",
              "    .dataframe thead th {\n",
              "        text-align: right;\n",
              "    }\n",
              "</style>\n",
              "<table border=\"1\" class=\"dataframe\">\n",
              "  <thead>\n",
              "    <tr style=\"text-align: right;\">\n",
              "      <th></th>\n",
              "      <th>instant</th>\n",
              "      <th>season</th>\n",
              "      <th>yr</th>\n",
              "      <th>mnth</th>\n",
              "      <th>hr</th>\n",
              "      <th>holiday</th>\n",
              "      <th>weekday</th>\n",
              "      <th>workingday</th>\n",
              "      <th>weathersit</th>\n",
              "      <th>temp</th>\n",
              "      <th>atemp</th>\n",
              "      <th>hum</th>\n",
              "      <th>windspeed</th>\n",
              "      <th>casual</th>\n",
              "      <th>registered</th>\n",
              "      <th>cnt</th>\n",
              "    </tr>\n",
              "  </thead>\n",
              "  <tbody>\n",
              "    <tr>\n",
              "      <th>count</th>\n",
              "      <td>17379.0000</td>\n",
              "      <td>17379.000000</td>\n",
              "      <td>17379.000000</td>\n",
              "      <td>17379.000000</td>\n",
              "      <td>17379.000000</td>\n",
              "      <td>17379.000000</td>\n",
              "      <td>17379.000000</td>\n",
              "      <td>17379.000000</td>\n",
              "      <td>17379.000000</td>\n",
              "      <td>17379.000000</td>\n",
              "      <td>17379.000000</td>\n",
              "      <td>17379.000000</td>\n",
              "      <td>17379.000000</td>\n",
              "      <td>17379.000000</td>\n",
              "      <td>17379.000000</td>\n",
              "      <td>17379.000000</td>\n",
              "    </tr>\n",
              "    <tr>\n",
              "      <th>mean</th>\n",
              "      <td>8690.0000</td>\n",
              "      <td>2.501640</td>\n",
              "      <td>0.502561</td>\n",
              "      <td>6.537775</td>\n",
              "      <td>11.546752</td>\n",
              "      <td>0.028770</td>\n",
              "      <td>3.003683</td>\n",
              "      <td>0.682721</td>\n",
              "      <td>1.425283</td>\n",
              "      <td>0.496987</td>\n",
              "      <td>0.475775</td>\n",
              "      <td>0.627229</td>\n",
              "      <td>0.190098</td>\n",
              "      <td>35.676218</td>\n",
              "      <td>153.786869</td>\n",
              "      <td>189.463088</td>\n",
              "    </tr>\n",
              "    <tr>\n",
              "      <th>std</th>\n",
              "      <td>5017.0295</td>\n",
              "      <td>1.106918</td>\n",
              "      <td>0.500008</td>\n",
              "      <td>3.438776</td>\n",
              "      <td>6.914405</td>\n",
              "      <td>0.167165</td>\n",
              "      <td>2.005771</td>\n",
              "      <td>0.465431</td>\n",
              "      <td>0.639357</td>\n",
              "      <td>0.192556</td>\n",
              "      <td>0.171850</td>\n",
              "      <td>0.192930</td>\n",
              "      <td>0.122340</td>\n",
              "      <td>49.305030</td>\n",
              "      <td>151.357286</td>\n",
              "      <td>181.387599</td>\n",
              "    </tr>\n",
              "    <tr>\n",
              "      <th>min</th>\n",
              "      <td>1.0000</td>\n",
              "      <td>1.000000</td>\n",
              "      <td>0.000000</td>\n",
              "      <td>1.000000</td>\n",
              "      <td>0.000000</td>\n",
              "      <td>0.000000</td>\n",
              "      <td>0.000000</td>\n",
              "      <td>0.000000</td>\n",
              "      <td>1.000000</td>\n",
              "      <td>0.020000</td>\n",
              "      <td>0.000000</td>\n",
              "      <td>0.000000</td>\n",
              "      <td>0.000000</td>\n",
              "      <td>0.000000</td>\n",
              "      <td>0.000000</td>\n",
              "      <td>1.000000</td>\n",
              "    </tr>\n",
              "    <tr>\n",
              "      <th>25%</th>\n",
              "      <td>4345.5000</td>\n",
              "      <td>2.000000</td>\n",
              "      <td>0.000000</td>\n",
              "      <td>4.000000</td>\n",
              "      <td>6.000000</td>\n",
              "      <td>0.000000</td>\n",
              "      <td>1.000000</td>\n",
              "      <td>0.000000</td>\n",
              "      <td>1.000000</td>\n",
              "      <td>0.340000</td>\n",
              "      <td>0.333300</td>\n",
              "      <td>0.480000</td>\n",
              "      <td>0.104500</td>\n",
              "      <td>4.000000</td>\n",
              "      <td>34.000000</td>\n",
              "      <td>40.000000</td>\n",
              "    </tr>\n",
              "    <tr>\n",
              "      <th>50%</th>\n",
              "      <td>8690.0000</td>\n",
              "      <td>3.000000</td>\n",
              "      <td>1.000000</td>\n",
              "      <td>7.000000</td>\n",
              "      <td>12.000000</td>\n",
              "      <td>0.000000</td>\n",
              "      <td>3.000000</td>\n",
              "      <td>1.000000</td>\n",
              "      <td>1.000000</td>\n",
              "      <td>0.500000</td>\n",
              "      <td>0.484800</td>\n",
              "      <td>0.630000</td>\n",
              "      <td>0.194000</td>\n",
              "      <td>17.000000</td>\n",
              "      <td>115.000000</td>\n",
              "      <td>142.000000</td>\n",
              "    </tr>\n",
              "    <tr>\n",
              "      <th>75%</th>\n",
              "      <td>13034.5000</td>\n",
              "      <td>3.000000</td>\n",
              "      <td>1.000000</td>\n",
              "      <td>10.000000</td>\n",
              "      <td>18.000000</td>\n",
              "      <td>0.000000</td>\n",
              "      <td>5.000000</td>\n",
              "      <td>1.000000</td>\n",
              "      <td>2.000000</td>\n",
              "      <td>0.660000</td>\n",
              "      <td>0.621200</td>\n",
              "      <td>0.780000</td>\n",
              "      <td>0.253700</td>\n",
              "      <td>48.000000</td>\n",
              "      <td>220.000000</td>\n",
              "      <td>281.000000</td>\n",
              "    </tr>\n",
              "    <tr>\n",
              "      <th>max</th>\n",
              "      <td>17379.0000</td>\n",
              "      <td>4.000000</td>\n",
              "      <td>1.000000</td>\n",
              "      <td>12.000000</td>\n",
              "      <td>23.000000</td>\n",
              "      <td>1.000000</td>\n",
              "      <td>6.000000</td>\n",
              "      <td>1.000000</td>\n",
              "      <td>4.000000</td>\n",
              "      <td>1.000000</td>\n",
              "      <td>1.000000</td>\n",
              "      <td>1.000000</td>\n",
              "      <td>0.850700</td>\n",
              "      <td>367.000000</td>\n",
              "      <td>886.000000</td>\n",
              "      <td>977.000000</td>\n",
              "    </tr>\n",
              "  </tbody>\n",
              "</table>\n",
              "</div>"
            ],
            "text/plain": [
              "          instant        season            yr          mnth            hr  \\\n",
              "count  17379.0000  17379.000000  17379.000000  17379.000000  17379.000000   \n",
              "mean    8690.0000      2.501640      0.502561      6.537775     11.546752   \n",
              "std     5017.0295      1.106918      0.500008      3.438776      6.914405   \n",
              "min        1.0000      1.000000      0.000000      1.000000      0.000000   \n",
              "25%     4345.5000      2.000000      0.000000      4.000000      6.000000   \n",
              "50%     8690.0000      3.000000      1.000000      7.000000     12.000000   \n",
              "75%    13034.5000      3.000000      1.000000     10.000000     18.000000   \n",
              "max    17379.0000      4.000000      1.000000     12.000000     23.000000   \n",
              "\n",
              "            holiday       weekday    workingday    weathersit          temp  \\\n",
              "count  17379.000000  17379.000000  17379.000000  17379.000000  17379.000000   \n",
              "mean       0.028770      3.003683      0.682721      1.425283      0.496987   \n",
              "std        0.167165      2.005771      0.465431      0.639357      0.192556   \n",
              "min        0.000000      0.000000      0.000000      1.000000      0.020000   \n",
              "25%        0.000000      1.000000      0.000000      1.000000      0.340000   \n",
              "50%        0.000000      3.000000      1.000000      1.000000      0.500000   \n",
              "75%        0.000000      5.000000      1.000000      2.000000      0.660000   \n",
              "max        1.000000      6.000000      1.000000      4.000000      1.000000   \n",
              "\n",
              "              atemp           hum     windspeed        casual    registered  \\\n",
              "count  17379.000000  17379.000000  17379.000000  17379.000000  17379.000000   \n",
              "mean       0.475775      0.627229      0.190098     35.676218    153.786869   \n",
              "std        0.171850      0.192930      0.122340     49.305030    151.357286   \n",
              "min        0.000000      0.000000      0.000000      0.000000      0.000000   \n",
              "25%        0.333300      0.480000      0.104500      4.000000     34.000000   \n",
              "50%        0.484800      0.630000      0.194000     17.000000    115.000000   \n",
              "75%        0.621200      0.780000      0.253700     48.000000    220.000000   \n",
              "max        1.000000      1.000000      0.850700    367.000000    886.000000   \n",
              "\n",
              "                cnt  \n",
              "count  17379.000000  \n",
              "mean     189.463088  \n",
              "std      181.387599  \n",
              "min        1.000000  \n",
              "25%       40.000000  \n",
              "50%      142.000000  \n",
              "75%      281.000000  \n",
              "max      977.000000  "
            ]
          },
          "execution_count": 95,
          "metadata": {},
          "output_type": "execute_result"
        }
      ],
      "source": [
        "hour_df.describe()"
      ]
    },
    {
      "cell_type": "markdown",
      "metadata": {},
      "source": [
        "**Insight:**\n",
        "\n",
        "Berdasarkan hasil ringkasan parameter statistik di atas, tidak terdapat keanehan pada nilai statistik manapun."
      ]
    },
    {
      "cell_type": "markdown",
      "metadata": {
        "id": "EhN5R4hr8DC1"
      },
      "source": [
        "### Cleaning Data"
      ]
    },
    {
      "cell_type": "markdown",
      "metadata": {},
      "source": [
        "##### Membersihkan data day_df"
      ]
    },
    {
      "cell_type": "markdown",
      "metadata": {},
      "source": [
        "Mengubah tipe data kolom dteday dari object menjadi datetime"
      ]
    },
    {
      "cell_type": "code",
      "execution_count": 96,
      "metadata": {
        "id": "jVnYpprE9Evz"
      },
      "outputs": [],
      "source": [
        "day_df['dteday'] = pd.to_datetime(day_df['dteday'])\n"
      ]
    },
    {
      "cell_type": "code",
      "execution_count": 97,
      "metadata": {},
      "outputs": [
        {
          "name": "stdout",
          "output_type": "stream",
          "text": [
            "<class 'pandas.core.frame.DataFrame'>\n",
            "RangeIndex: 731 entries, 0 to 730\n",
            "Data columns (total 16 columns):\n",
            " #   Column      Non-Null Count  Dtype         \n",
            "---  ------      --------------  -----         \n",
            " 0   instant     731 non-null    int64         \n",
            " 1   dteday      731 non-null    datetime64[ns]\n",
            " 2   season      731 non-null    int64         \n",
            " 3   yr          731 non-null    int64         \n",
            " 4   mnth        731 non-null    int64         \n",
            " 5   holiday     731 non-null    int64         \n",
            " 6   weekday     731 non-null    int64         \n",
            " 7   workingday  731 non-null    int64         \n",
            " 8   weathersit  731 non-null    int64         \n",
            " 9   temp        731 non-null    float64       \n",
            " 10  atemp       731 non-null    float64       \n",
            " 11  hum         731 non-null    float64       \n",
            " 12  windspeed   731 non-null    float64       \n",
            " 13  casual      731 non-null    int64         \n",
            " 14  registered  731 non-null    int64         \n",
            " 15  cnt         731 non-null    int64         \n",
            "dtypes: datetime64[ns](1), float64(4), int64(11)\n",
            "memory usage: 91.5 KB\n"
          ]
        }
      ],
      "source": [
        "day_df.info()"
      ]
    },
    {
      "cell_type": "markdown",
      "metadata": {
        "id": "Q_5ejIqckiSP"
      },
      "source": [
        "**Insight:**\n",
        "\n",
        "Berdasarkan informasi di atas, tipe data kolom dteday telah berhasil diubah menjadi datetime"
      ]
    },
    {
      "cell_type": "markdown",
      "metadata": {},
      "source": [
        "##### Membersihkan data hour_df\n"
      ]
    },
    {
      "cell_type": "markdown",
      "metadata": {},
      "source": [
        "Mengubah tipe data kolom dteday dari object menjadi date time"
      ]
    },
    {
      "cell_type": "code",
      "execution_count": 98,
      "metadata": {},
      "outputs": [],
      "source": [
        "hour_df['dteday'] = pd.to_datetime(hour_df['dteday'])"
      ]
    },
    {
      "cell_type": "code",
      "execution_count": 99,
      "metadata": {},
      "outputs": [
        {
          "name": "stdout",
          "output_type": "stream",
          "text": [
            "<class 'pandas.core.frame.DataFrame'>\n",
            "RangeIndex: 17379 entries, 0 to 17378\n",
            "Data columns (total 17 columns):\n",
            " #   Column      Non-Null Count  Dtype         \n",
            "---  ------      --------------  -----         \n",
            " 0   instant     17379 non-null  int64         \n",
            " 1   dteday      17379 non-null  datetime64[ns]\n",
            " 2   season      17379 non-null  int64         \n",
            " 3   yr          17379 non-null  int64         \n",
            " 4   mnth        17379 non-null  int64         \n",
            " 5   hr          17379 non-null  int64         \n",
            " 6   holiday     17379 non-null  int64         \n",
            " 7   weekday     17379 non-null  int64         \n",
            " 8   workingday  17379 non-null  int64         \n",
            " 9   weathersit  17379 non-null  int64         \n",
            " 10  temp        17379 non-null  float64       \n",
            " 11  atemp       17379 non-null  float64       \n",
            " 12  hum         17379 non-null  float64       \n",
            " 13  windspeed   17379 non-null  float64       \n",
            " 14  casual      17379 non-null  int64         \n",
            " 15  registered  17379 non-null  int64         \n",
            " 16  cnt         17379 non-null  int64         \n",
            "dtypes: datetime64[ns](1), float64(4), int64(12)\n",
            "memory usage: 2.3 MB\n"
          ]
        }
      ],
      "source": [
        "hour_df.info()"
      ]
    },
    {
      "cell_type": "markdown",
      "metadata": {},
      "source": [
        "**Insight:**\n",
        "\n",
        "Berdasarkan informasi di atas, tipe data kolom dteday telah berhasil diubah menjadi datetime"
      ]
    },
    {
      "cell_type": "markdown",
      "metadata": {},
      "source": [
        "**Kirim Data yang Sudah dibersihkan ke Dashboard**"
      ]
    },
    {
      "cell_type": "code",
      "execution_count": 116,
      "metadata": {},
      "outputs": [],
      "source": [
        "hour_df.to_csv('./dashboard/hour_cleaned.csv', index=False)\n",
        "day_df.to_csv('./dashboard/day_cleaned.csv', index=False)"
      ]
    },
    {
      "cell_type": "markdown",
      "metadata": {
        "id": "gp-Y6wU38DC1"
      },
      "source": [
        "## Exploratory Data Analysis (EDA)"
      ]
    },
    {
      "cell_type": "markdown",
      "metadata": {
        "id": "MW7WF2kr8DC1"
      },
      "source": [
        "### Explore day_df"
      ]
    },
    {
      "cell_type": "markdown",
      "metadata": {},
      "source": [
        "**Menampilkan rangkuman parameter statistik**"
      ]
    },
    {
      "cell_type": "code",
      "execution_count": 100,
      "metadata": {
        "id": "e9CQCZjk8DC2"
      },
      "outputs": [
        {
          "data": {
            "text/html": [
              "<div>\n",
              "<style scoped>\n",
              "    .dataframe tbody tr th:only-of-type {\n",
              "        vertical-align: middle;\n",
              "    }\n",
              "\n",
              "    .dataframe tbody tr th {\n",
              "        vertical-align: top;\n",
              "    }\n",
              "\n",
              "    .dataframe thead th {\n",
              "        text-align: right;\n",
              "    }\n",
              "</style>\n",
              "<table border=\"1\" class=\"dataframe\">\n",
              "  <thead>\n",
              "    <tr style=\"text-align: right;\">\n",
              "      <th></th>\n",
              "      <th>instant</th>\n",
              "      <th>dteday</th>\n",
              "      <th>season</th>\n",
              "      <th>yr</th>\n",
              "      <th>mnth</th>\n",
              "      <th>holiday</th>\n",
              "      <th>weekday</th>\n",
              "      <th>workingday</th>\n",
              "      <th>weathersit</th>\n",
              "      <th>temp</th>\n",
              "      <th>atemp</th>\n",
              "      <th>hum</th>\n",
              "      <th>windspeed</th>\n",
              "      <th>casual</th>\n",
              "      <th>registered</th>\n",
              "      <th>cnt</th>\n",
              "    </tr>\n",
              "  </thead>\n",
              "  <tbody>\n",
              "    <tr>\n",
              "      <th>count</th>\n",
              "      <td>731.000000</td>\n",
              "      <td>731</td>\n",
              "      <td>731.000000</td>\n",
              "      <td>731.000000</td>\n",
              "      <td>731.000000</td>\n",
              "      <td>731.000000</td>\n",
              "      <td>731.000000</td>\n",
              "      <td>731.000000</td>\n",
              "      <td>731.000000</td>\n",
              "      <td>731.000000</td>\n",
              "      <td>731.000000</td>\n",
              "      <td>731.000000</td>\n",
              "      <td>731.000000</td>\n",
              "      <td>731.000000</td>\n",
              "      <td>731.000000</td>\n",
              "      <td>731.000000</td>\n",
              "    </tr>\n",
              "    <tr>\n",
              "      <th>mean</th>\n",
              "      <td>366.000000</td>\n",
              "      <td>2012-01-01 00:00:00</td>\n",
              "      <td>2.496580</td>\n",
              "      <td>0.500684</td>\n",
              "      <td>6.519836</td>\n",
              "      <td>0.028728</td>\n",
              "      <td>2.997264</td>\n",
              "      <td>0.683995</td>\n",
              "      <td>1.395349</td>\n",
              "      <td>0.495385</td>\n",
              "      <td>0.474354</td>\n",
              "      <td>0.627894</td>\n",
              "      <td>0.190486</td>\n",
              "      <td>848.176471</td>\n",
              "      <td>3656.172367</td>\n",
              "      <td>4504.348837</td>\n",
              "    </tr>\n",
              "    <tr>\n",
              "      <th>min</th>\n",
              "      <td>1.000000</td>\n",
              "      <td>2011-01-01 00:00:00</td>\n",
              "      <td>1.000000</td>\n",
              "      <td>0.000000</td>\n",
              "      <td>1.000000</td>\n",
              "      <td>0.000000</td>\n",
              "      <td>0.000000</td>\n",
              "      <td>0.000000</td>\n",
              "      <td>1.000000</td>\n",
              "      <td>0.059130</td>\n",
              "      <td>0.079070</td>\n",
              "      <td>0.000000</td>\n",
              "      <td>0.022392</td>\n",
              "      <td>2.000000</td>\n",
              "      <td>20.000000</td>\n",
              "      <td>22.000000</td>\n",
              "    </tr>\n",
              "    <tr>\n",
              "      <th>25%</th>\n",
              "      <td>183.500000</td>\n",
              "      <td>2011-07-02 12:00:00</td>\n",
              "      <td>2.000000</td>\n",
              "      <td>0.000000</td>\n",
              "      <td>4.000000</td>\n",
              "      <td>0.000000</td>\n",
              "      <td>1.000000</td>\n",
              "      <td>0.000000</td>\n",
              "      <td>1.000000</td>\n",
              "      <td>0.337083</td>\n",
              "      <td>0.337842</td>\n",
              "      <td>0.520000</td>\n",
              "      <td>0.134950</td>\n",
              "      <td>315.500000</td>\n",
              "      <td>2497.000000</td>\n",
              "      <td>3152.000000</td>\n",
              "    </tr>\n",
              "    <tr>\n",
              "      <th>50%</th>\n",
              "      <td>366.000000</td>\n",
              "      <td>2012-01-01 00:00:00</td>\n",
              "      <td>3.000000</td>\n",
              "      <td>1.000000</td>\n",
              "      <td>7.000000</td>\n",
              "      <td>0.000000</td>\n",
              "      <td>3.000000</td>\n",
              "      <td>1.000000</td>\n",
              "      <td>1.000000</td>\n",
              "      <td>0.498333</td>\n",
              "      <td>0.486733</td>\n",
              "      <td>0.626667</td>\n",
              "      <td>0.180975</td>\n",
              "      <td>713.000000</td>\n",
              "      <td>3662.000000</td>\n",
              "      <td>4548.000000</td>\n",
              "    </tr>\n",
              "    <tr>\n",
              "      <th>75%</th>\n",
              "      <td>548.500000</td>\n",
              "      <td>2012-07-01 12:00:00</td>\n",
              "      <td>3.000000</td>\n",
              "      <td>1.000000</td>\n",
              "      <td>10.000000</td>\n",
              "      <td>0.000000</td>\n",
              "      <td>5.000000</td>\n",
              "      <td>1.000000</td>\n",
              "      <td>2.000000</td>\n",
              "      <td>0.655417</td>\n",
              "      <td>0.608602</td>\n",
              "      <td>0.730209</td>\n",
              "      <td>0.233214</td>\n",
              "      <td>1096.000000</td>\n",
              "      <td>4776.500000</td>\n",
              "      <td>5956.000000</td>\n",
              "    </tr>\n",
              "    <tr>\n",
              "      <th>max</th>\n",
              "      <td>731.000000</td>\n",
              "      <td>2012-12-31 00:00:00</td>\n",
              "      <td>4.000000</td>\n",
              "      <td>1.000000</td>\n",
              "      <td>12.000000</td>\n",
              "      <td>1.000000</td>\n",
              "      <td>6.000000</td>\n",
              "      <td>1.000000</td>\n",
              "      <td>3.000000</td>\n",
              "      <td>0.861667</td>\n",
              "      <td>0.840896</td>\n",
              "      <td>0.972500</td>\n",
              "      <td>0.507463</td>\n",
              "      <td>3410.000000</td>\n",
              "      <td>6946.000000</td>\n",
              "      <td>8714.000000</td>\n",
              "    </tr>\n",
              "    <tr>\n",
              "      <th>std</th>\n",
              "      <td>211.165812</td>\n",
              "      <td>NaN</td>\n",
              "      <td>1.110807</td>\n",
              "      <td>0.500342</td>\n",
              "      <td>3.451913</td>\n",
              "      <td>0.167155</td>\n",
              "      <td>2.004787</td>\n",
              "      <td>0.465233</td>\n",
              "      <td>0.544894</td>\n",
              "      <td>0.183051</td>\n",
              "      <td>0.162961</td>\n",
              "      <td>0.142429</td>\n",
              "      <td>0.077498</td>\n",
              "      <td>686.622488</td>\n",
              "      <td>1560.256377</td>\n",
              "      <td>1937.211452</td>\n",
              "    </tr>\n",
              "  </tbody>\n",
              "</table>\n",
              "</div>"
            ],
            "text/plain": [
              "          instant               dteday      season          yr        mnth  \\\n",
              "count  731.000000                  731  731.000000  731.000000  731.000000   \n",
              "mean   366.000000  2012-01-01 00:00:00    2.496580    0.500684    6.519836   \n",
              "min      1.000000  2011-01-01 00:00:00    1.000000    0.000000    1.000000   \n",
              "25%    183.500000  2011-07-02 12:00:00    2.000000    0.000000    4.000000   \n",
              "50%    366.000000  2012-01-01 00:00:00    3.000000    1.000000    7.000000   \n",
              "75%    548.500000  2012-07-01 12:00:00    3.000000    1.000000   10.000000   \n",
              "max    731.000000  2012-12-31 00:00:00    4.000000    1.000000   12.000000   \n",
              "std    211.165812                  NaN    1.110807    0.500342    3.451913   \n",
              "\n",
              "          holiday     weekday  workingday  weathersit        temp       atemp  \\\n",
              "count  731.000000  731.000000  731.000000  731.000000  731.000000  731.000000   \n",
              "mean     0.028728    2.997264    0.683995    1.395349    0.495385    0.474354   \n",
              "min      0.000000    0.000000    0.000000    1.000000    0.059130    0.079070   \n",
              "25%      0.000000    1.000000    0.000000    1.000000    0.337083    0.337842   \n",
              "50%      0.000000    3.000000    1.000000    1.000000    0.498333    0.486733   \n",
              "75%      0.000000    5.000000    1.000000    2.000000    0.655417    0.608602   \n",
              "max      1.000000    6.000000    1.000000    3.000000    0.861667    0.840896   \n",
              "std      0.167155    2.004787    0.465233    0.544894    0.183051    0.162961   \n",
              "\n",
              "              hum   windspeed       casual   registered          cnt  \n",
              "count  731.000000  731.000000   731.000000   731.000000   731.000000  \n",
              "mean     0.627894    0.190486   848.176471  3656.172367  4504.348837  \n",
              "min      0.000000    0.022392     2.000000    20.000000    22.000000  \n",
              "25%      0.520000    0.134950   315.500000  2497.000000  3152.000000  \n",
              "50%      0.626667    0.180975   713.000000  3662.000000  4548.000000  \n",
              "75%      0.730209    0.233214  1096.000000  4776.500000  5956.000000  \n",
              "max      0.972500    0.507463  3410.000000  6946.000000  8714.000000  \n",
              "std      0.142429    0.077498   686.622488  1560.256377  1937.211452  "
            ]
          },
          "execution_count": 100,
          "metadata": {},
          "output_type": "execute_result"
        }
      ],
      "source": [
        "day_df.describe(include=\"all\")"
      ]
    },
    {
      "cell_type": "markdown",
      "metadata": {
        "id": "th_Lzl2Fkj9O"
      },
      "source": [
        "**Insight:**\n",
        "- Rentang tanggal penyewaan adalah 1 Januari 2011 hingga 31 Desember 2012\n",
        "- Jumlah total penyewaan sepeda terendah dalam 1 hari adalah 22\n",
        "- Jumlah total penyewaan sepeda tertinggi dalam 1 hari adalah 8714\n",
        "- Jumlah total penyewaan sepeda terendah oleh pengguna casual adalah 2\n",
        "- Jumlah penyewaan sepeda tertinggi oleh pengguna casual adalah 3410\n",
        "- Jumlah penyewaan sepeda terendah oleh pengguna registered adalah 20\n",
        "- Jumlah penyewaan sepeda tertinggi oleh pengguna registered  adalah 6946 \n"
      ]
    },
    {
      "cell_type": "markdown",
      "metadata": {},
      "source": [
        "**Mengelompokkan data penyewa per tahun, kemudian menghitung jumlah minimum, maksimum, dan total keseluruhan**"
      ]
    },
    {
      "cell_type": "code",
      "execution_count": 101,
      "metadata": {},
      "outputs": [
        {
          "name": "stdout",
          "output_type": "stream",
          "text": [
            "      cnt               \n",
            "      min   max      sum\n",
            "yr                      \n",
            "2011  431  6043  1243103\n",
            "2012   22  8714  2049576\n"
          ]
        }
      ],
      "source": [
        "day_grouped = day_df.groupby(by='yr').agg({\n",
        "    'cnt': ['min', 'max', 'sum'],\n",
        "})\n",
        "\n",
        "day_grouped.rename(index={0: 2011, 1: 2012}, inplace=True)\n",
        "print(day_grouped.to_string(index=True))"
      ]
    },
    {
      "cell_type": "markdown",
      "metadata": {},
      "source": [
        "**Insight:** \n",
        "- Total penyewaan sepeda pada tahun 2012 lebih tinggi dibandingkan tahun 2011, meningkat dari 1.243.103 menjadi 2.049.576.  \n",
        "- Jumlah penyewaan harian tertinggi di tahun 2012 lebih besar dibandingkan tahun 2011, yaitu 8.714 pada 2012 dan 6.043 pada 2011.  \n",
        "- Namun, jumlah penyewaan harian terendah di tahun 2012 lebih rendah dibandingkan tahun 2011, yaitu 22 pada 2012 dan 431 pada 2011."
      ]
    },
    {
      "cell_type": "markdown",
      "metadata": {},
      "source": [
        "**Mengelompokkan data total penyewa keseluruhan berdasarkan musim**"
      ]
    },
    {
      "cell_type": "code",
      "execution_count": 113,
      "metadata": {},
      "outputs": [
        {
          "name": "stdout",
          "output_type": "stream",
          "text": [
            "Tahun  Musim  Total Penyewa\n",
            " 2011   Semi         150000\n",
            " 2011  Panas         347316\n",
            " 2011  Gugur         419650\n",
            " 2011 Dingin         326137\n",
            " 2012   Semi         321348\n",
            " 2012  Panas         571273\n",
            " 2012  Gugur         641479\n",
            " 2012 Dingin         515476\n"
          ]
        }
      ],
      "source": [
        "# Mapping untuk musim\n",
        "season_map = {\n",
        "    1: 'Semi', 2: 'Panas', 3: 'Gugur', 4: 'Dingin'\n",
        "}\n",
        "\n",
        "# Group by tahun dan musim\n",
        "df_grouped_season = day_df.groupby(['yr', 'season']).agg({\n",
        "    'cnt': ['sum']\n",
        "}).reset_index()\n",
        "\n",
        "# Format tabel\n",
        "df_grouped_season['Tahun'] = df_grouped_season['yr'].map({0: '2011', 1: '2012'})\n",
        "df_grouped_season['Musim'] = df_grouped_season['season'].map(season_map)\n",
        "\n",
        "df_grouped_season = df_grouped_season[['Tahun', 'Musim', 'cnt']]\n",
        "df_grouped_season.columns = ['Tahun', 'Musim', 'Total Penyewa']\n",
        "\n",
        "# Tampilkan tabel\n",
        "print(df_grouped_season.to_string(index=False))"
      ]
    },
    {
      "cell_type": "markdown",
      "metadata": {},
      "source": [
        "**Insight:**  \n",
        "- Penyewaan tertinggi terjadi pada musim Gugur di kedua tahun, dengan jumlah 419.650 penyewa pada 2011 dan 641.479 penyewa pada 2012.  \n",
        "- Penyewaan terendah terjadi pada musim Semi, yaitu 150.000 penyewa pada 2011 dan 321.348 penyewa pada 2012.  \n",
        "- Secara keseluruhan, terjadi peningkatan jumlah penyewaan sepeda di semua musim pada tahun 2012 dibandingkan 2011."
      ]
    },
    {
      "cell_type": "markdown",
      "metadata": {},
      "source": [
        "**Mengelompokkan data total keseluruhan berdasarkan cuaca**"
      ]
    },
    {
      "cell_type": "code",
      "execution_count": null,
      "metadata": {},
      "outputs": [
        {
          "name": "stdout",
          "output_type": "stream",
          "text": [
            "Tahun                                                                            Cuaca  Total Penyewa\n",
            " 2011                       Cerah, Sedikit berawan, Sebagian berawan, Sebagian berawan         835067\n",
            " 2011                 Kabut + Berawan, Kabut + Awan pecah, Kabut + Sedikit awan, Kabut         382924\n",
            " 2011 Salju ringan, Hujan ringan + Petir + Awan terpisah, Hujan ringan + Awan terpisah          25112\n",
            " 2012                       Cerah, Sedikit berawan, Sebagian berawan, Sebagian berawan        1422885\n",
            " 2012                 Kabut + Berawan, Kabut + Awan pecah, Kabut + Sedikit awan, Kabut         613934\n",
            " 2012 Salju ringan, Hujan ringan + Petir + Awan terpisah, Hujan ringan + Awan terpisah          12757\n"
          ]
        }
      ],
      "source": [
        "# Mapping untuk cuaca\n",
        "weather_map = {\n",
        "    1: 'Cerah, Sedikit berawan, Sebagian berawan, Sebagian berawan',\n",
        "    2: 'Kabut + Berawan, Kabut + Awan pecah, Kabut + Sedikit awan, Kabut', \n",
        "    3: 'Salju ringan, Hujan ringan + Petir + Awan terpisah, Hujan ringan + Awan terpisah',\n",
        "    4: 'Hujan lebat + Butiran es + Petir + Kabut, Salju + Kabut tebal'\n",
        "}\n",
        "\n",
        "day_df['weather_name'] = day_df['weathersit'].map(weather_map)\n",
        "# Group by tahun dan cuaca\n",
        "df_grouped_weather = day_df.groupby(['yr', 'weathersit']).agg({\n",
        "    'cnt': ['sum']\n",
        "}).reset_index()\n",
        "\n",
        "# Format tabel\n",
        "df_grouped_weather['Tahun'] = df_grouped_weather['yr'].map({0: '2011', 1: '2012'})\n",
        "df_grouped_weather['Cuaca'] = df_grouped_weather['weathersit'].map(weather_map)\n",
        "\n",
        "df_grouped_weather = df_grouped_weather[['Tahun', 'Cuaca', 'cnt']]\n",
        "df_grouped_weather.columns = ['Tahun', 'Cuaca', 'Total Penyewa']\n",
        "\n",
        "# Tampilkan tabel\n",
        "print(df_grouped_weather.to_string(index=False))"
      ]
    },
    {
      "cell_type": "markdown",
      "metadata": {},
      "source": [
        "**Insight:**\n",
        "  \n",
        "- Cuaca Cerah, Sedikit berawan, Sebagian berawan, Sebagian berawan menghasilkan jumlah penyewaan tertinggi di kedua tahun. Pada 2011, total penyewa mencapai 835.067, sedangkan pada 2012 meningkat signifikan menjadi 1.422.885\n",
        "- Cuaca Salju ringan, Hujan ringan + Petir + Awan terpisah, Hujan ringan + Awan terpisah memiliki jumlah penyewaan terendah. Pada 2011, total penyewa hanya 25.112, sedangkan pada 2012 bahkan lebih rendah, yaitu 12.757, menunjukkan bahwa kondisi cuaca buruk sangat memengaruhi minat penyewaan sepeda\n",
        "- Tidak terdapat data penyewaan untuk cuaca Hujan lebat + Butiran es + Petir + Kabut, Salju + Kabut tebal"
      ]
    },
    {
      "cell_type": "markdown",
      "metadata": {},
      "source": [
        "**Mengelompokkan data total penyewa casual, registered, dan keseluruhan berdasarkan cuaca dan musim**"
      ]
    },
    {
      "cell_type": "code",
      "execution_count": 115,
      "metadata": {},
      "outputs": [
        {
          "name": "stdout",
          "output_type": "stream",
          "text": [
            "Tabel Penyewaan Sepeda Berdasarkan Musim dan Cuaca per Tahun:\n",
            "Tahun  Musim                                                                            Cuaca  Total Penyewa\n",
            " 2011   Semi                       Cerah, Sedikit berawan, Sebagian berawan, Sebagian berawan          99535\n",
            " 2011   Semi                 Kabut + Berawan, Kabut + Awan pecah, Kabut + Sedikit awan, Kabut          49336\n",
            " 2011   Semi Salju ringan, Hujan ringan + Petir + Awan terpisah, Hujan ringan + Awan terpisah           1129\n",
            " 2011  Panas                       Cerah, Sedikit berawan, Sebagian berawan, Sebagian berawan         220323\n",
            " 2011  Panas                 Kabut + Berawan, Kabut + Awan pecah, Kabut + Sedikit awan, Kabut         124513\n",
            " 2011  Panas Salju ringan, Hujan ringan + Petir + Awan terpisah, Hujan ringan + Awan terpisah           2480\n",
            " 2011  Gugur                       Cerah, Sedikit berawan, Sebagian berawan, Sebagian berawan         309150\n",
            " 2011  Gugur                 Kabut + Berawan, Kabut + Awan pecah, Kabut + Sedikit awan, Kabut         103952\n",
            " 2011  Gugur Salju ringan, Hujan ringan + Petir + Awan terpisah, Hujan ringan + Awan terpisah           6548\n",
            " 2011 Dingin                       Cerah, Sedikit berawan, Sebagian berawan, Sebagian berawan         206059\n",
            " 2011 Dingin                 Kabut + Berawan, Kabut + Awan pecah, Kabut + Sedikit awan, Kabut         105123\n",
            " 2011 Dingin Salju ringan, Hujan ringan + Petir + Awan terpisah, Hujan ringan + Awan terpisah          14955\n",
            " 2012   Semi                       Cerah, Sedikit berawan, Sebagian berawan, Sebagian berawan         212501\n",
            " 2012   Semi                 Kabut + Berawan, Kabut + Awan pecah, Kabut + Sedikit awan, Kabut         106237\n",
            " 2012   Semi Salju ringan, Hujan ringan + Petir + Awan terpisah, Hujan ringan + Awan terpisah           2610\n",
            " 2012  Panas                       Cerah, Sedikit berawan, Sebagian berawan, Sebagian berawan         406663\n",
            " 2012  Panas                 Kabut + Berawan, Kabut + Awan pecah, Kabut + Sedikit awan, Kabut         163583\n",
            " 2012  Panas Salju ringan, Hujan ringan + Petir + Awan terpisah, Hujan ringan + Awan terpisah           1027\n",
            " 2012  Gugur                       Cerah, Sedikit berawan, Sebagian berawan, Sebagian berawan         490293\n",
            " 2012  Gugur                 Kabut + Berawan, Kabut + Awan pecah, Kabut + Sedikit awan, Kabut         146727\n",
            " 2012  Gugur Salju ringan, Hujan ringan + Petir + Awan terpisah, Hujan ringan + Awan terpisah           4459\n",
            " 2012 Dingin                       Cerah, Sedikit berawan, Sebagian berawan, Sebagian berawan         313428\n",
            " 2012 Dingin                 Kabut + Berawan, Kabut + Awan pecah, Kabut + Sedikit awan, Kabut         197387\n",
            " 2012 Dingin Salju ringan, Hujan ringan + Petir + Awan terpisah, Hujan ringan + Awan terpisah           4661\n"
          ]
        }
      ],
      "source": [
        "# Mapping untuk cuaca dan musim\n",
        "weather_map = {\n",
        "    1: 'Cerah, Sedikit berawan, Sebagian berawan, Sebagian berawan',\n",
        "    2: 'Kabut + Berawan, Kabut + Awan pecah, Kabut + Sedikit awan, Kabut', \n",
        "    3: 'Salju ringan, Hujan ringan + Petir + Awan terpisah, Hujan ringan + Awan terpisah',\n",
        "    4: 'Hujan lebat + Butiran es + Petir + Kabut, Salju + Kabut tebal'\n",
        "}\n",
        "\n",
        "season_map = {\n",
        "    1: 'Semi', 2: 'Panas', 3: 'Gugur', 4: 'Dingin'\n",
        "}\n",
        "day_df['season_name'] = day_df['season'].map(season_map)\n",
        "\n",
        "# Group by tahun, musim, dan cuaca\n",
        "df_grouped = day_df.groupby(['yr', 'season', 'weathersit']).agg({\n",
        "    'cnt': ['sum']\n",
        "}).reset_index()\n",
        "\n",
        "# Format tabel\n",
        "df_grouped['Tahun'] = df_grouped['yr'].map({0: '2011', 1: '2012'})\n",
        "df_grouped['Musim'] = df_grouped['season'].map(season_map)\n",
        "df_grouped['Cuaca'] = df_grouped['weathersit'].map(weather_map)\n",
        "\n",
        "df_grouped = df_grouped[['Tahun', 'Musim', 'Cuaca', 'cnt']]\n",
        "df_grouped.columns = ['Tahun', 'Musim', 'Cuaca', 'Total Penyewa']\n",
        "\n",
        "# Tampilkan tabel\n",
        "print(\"Tabel Penyewaan Sepeda Berdasarkan Musim dan Cuaca per Tahun:\")\n",
        "print(df_grouped.to_string(index=False))"
      ]
    },
    {
      "cell_type": "markdown",
      "metadata": {},
      "source": [
        "**Insight:**\n",
        "- Pada tahun 2011, total penyewaan tertinggi terjadi pada musim gugur dengan 309.150 penyewa saat cuaca Cerah, Sedikit berawan, Sebagian berawan, Sebagian berawan.\n",
        "- Pada tahun 2011, total penyewaan terendah terjadi pada musim semi saat Salju ringan, Hujan ringan + Petir + Awan terpisah, Hujan ringan + Awan terpisah, hanya 1.129 penyewa.\n",
        "- Pada tahun 2012, total penyewaan tertinggi terjadi pada musim gugur dengan 490.293 penyewa saat cuaca Cerah, Sedikit berawan, Sebagian berawan, Sebagian berawan.\n",
        "- Pada tahun 2012, total penyewaan terendah terjadi pada musim panas saat Salju ringan, Hujan ringan + Petir + Awan terpisah, Hujan ringan + Awan terpisah, hanya 1.027 penyewa.\n",
        "- Total penyewaan tertinggi di kedua tahun terjadi pada musim gugur 2012 dengan 490.293 penyewa saat cuaca Cerah, Sedikit berawan, Sebagian berawan, Sebagian berawan.  \n",
        "- Total penyewaan terendah di kedua tahun terjadi pada musim semi 2011 saat Salju ringan, Hujan ringan + Petir + Awan terpisah, Hujan ringan + Awan terpisah, hanya 1.129 penyewa.  \n",
        "- Cuaca Cerah, Sedikit berawan, Sebagian berawan, Sebagian berawan selalu menghasilkan jumlah penyewa terbanyak di semua musim, sedangkan Salju ringan, Hujan ringan + Petir + Awan terpisah, Hujan ringan + Awan terpisah menyebabkan jumlah penyewa paling sedikit.  \n",
        "- Peningkatan terbesar terjadi pada musim gugur dan musim panas 2012 dibandingkan tahun sebelumnya."
      ]
    },
    {
      "cell_type": "markdown",
      "metadata": {},
      "source": [
        "### Explore hour_df"
      ]
    },
    {
      "cell_type": "markdown",
      "metadata": {},
      "source": [
        "**Mengelompokkan total penyewa per jam**"
      ]
    },
    {
      "cell_type": "code",
      "execution_count": 106,
      "metadata": {},
      "outputs": [
        {
          "name": "stdout",
          "output_type": "stream",
          "text": [
            "           cnt     casual  registered\n",
            "          mean       mean        mean\n",
            "hr                                   \n",
            "0    53.898072  10.158402   43.739669\n",
            "1    33.375691   6.504144   26.871547\n",
            "2    22.869930   4.772028   18.097902\n",
            "3    11.727403   2.715925    9.011478\n",
            "4     6.352941   1.253945    5.098996\n",
            "5    19.889819   1.411437   18.478382\n",
            "6    76.044138   4.161379   71.882759\n",
            "7   212.064649  11.055021  201.009629\n",
            "8   359.011004  21.679505  337.331499\n",
            "9   219.309491  30.891334  188.418157\n",
            "10  173.668501  46.477304  127.191197\n",
            "11  208.143054  59.540578  148.602476\n",
            "12  253.315934  68.293956  185.021978\n",
            "13  253.661180  72.308642  181.352538\n",
            "14  240.949246  75.567901  165.381344\n",
            "15  251.233196  74.905350  176.327846\n",
            "16  311.983562  73.745205  238.238356\n",
            "17  461.452055  74.273973  387.178082\n",
            "18  425.510989  61.120879  364.390110\n",
            "19  311.523352  48.770604  262.752747\n",
            "20  226.030220  36.233516  189.796703\n",
            "21  172.314560  28.255495  144.059066\n",
            "22  131.335165  22.252747  109.082418\n",
            "23   87.831044  15.199176   72.631868\n"
          ]
        }
      ],
      "source": [
        "# Group by tahun, musim, dan cuaca\n",
        "hour_grouped = hour_df.groupby('hr').agg({\n",
        "    'cnt': ['mean'],\n",
        "    'casual': ['mean'],\n",
        "    'registered': ['mean'],\n",
        "})\n",
        "\n",
        "print(hour_grouped.to_string(index=True))"
      ]
    },
    {
      "cell_type": "markdown",
      "metadata": {},
      "source": [
        "**Insight:**\n",
        "\n",
        "- Jumlah peminjaman tertinggi secara keseluruhan terjadi pada jam 17:00 dengan rata-rata 461,45 peminjaman.\n",
        "- Sementara jumlah terendah terjadi pada jam 4:00 dengan rata-rata hanya 6,35 peminjaman. \n",
        "- Peminjaman oleh pengguna casual mencapai puncaknya pada jam 14:00 dengan rata-rata 75,57 peminjaman.\n",
        "- Sedangkan jumlah terendah terjadi pada jam 4:00 dengan rata-rata hanya 1,25 peminjaman.\n",
        "- Pengguna terdaftar memiliki jumlah peminjaman tertinggi pada jam 17:00 dengan rata-rata 387,18.\n",
        "- Sedangkan jumlah terendah tercatat pada jam 3:00 dengan rata-rata 9,01 peminjaman. \n"
      ]
    },
    {
      "cell_type": "markdown",
      "metadata": {
        "id": "zsyZjqak8DC2"
      },
      "source": [
        "## Visualization & Explanatory Analysis"
      ]
    },
    {
      "cell_type": "markdown",
      "metadata": {},
      "source": [
        "### Pertanyaan 1: Pada musim dan cuaca apa jumlah penyewaan sepeda tertinggi dan terendah?"
      ]
    },
    {
      "cell_type": "code",
      "execution_count": 107,
      "metadata": {},
      "outputs": [
        {
          "data": {
            "image/png": "[encoded data removed]",
            "text/plain": [
              "<Figure size 1400x800 with 1 Axes>"
            ]
          },
          "metadata": {},
          "output_type": "display_data"
        }
      ],
      "source": [
        "#Mapping nilai untuk label yang lebih jelas\n",
        "season_map = {1: 'Semi', 2: 'Panas', 3: 'Gugur', 4: 'Dingin'}\n",
        "weather_map = {\n",
        "    1: 'Cerah, Sedikit berawan, Sebagian berawan, Sebagian berawan',\n",
        "    2: 'Kabut + Berawan, Kabut + Awan pecah, Kabut + Sedikit awan, Kabut', \n",
        "    3: 'Salju ringan, Hujan ringan + Petir + Awan terpisah, Hujan ringan + Awan terpisah',\n",
        "    4: 'Hujan lebat + Butiran es + Petir + Kabut, Salju + Kabut tebal'\n",
        "}\n",
        "day_df['season_name'] = day_df['season'].map(season_map)\n",
        "day_df['weather_name'] = day_df['weathersit'].map(weather_map)\n",
        "\n",
        "# Hitung rata-rata penyewaan per kombinasi musim-cuaca\n",
        "season_weather_avg = day_df.groupby(['season_name', 'weather_name'])['cnt'].mean().reset_index()\n",
        "\n",
        "# Visualisasi\n",
        "plt.figure(figsize=(14, 8))\n",
        "sns.barplot(x='season_name', y='cnt', hue='weather_name', data=season_weather_avg,\n",
        "            order=['Semi', 'Panas', 'Gugur', 'Dingin'],\n",
        "            hue_order=['Cerah, Sedikit berawan, Sebagian berawan, Sebagian berawan'\n",
        "    ,'Kabut + Berawan, Kabut + Awan pecah, Kabut + Sedikit awan, Kabut'\n",
        "    ,'Salju ringan, Hujan ringan + Petir + Awan terpisah, Hujan ringan + Awan terpisah'\n",
        "    ,'Hujan lebat + Butiran es + Petir + Kabut, Salju + Kabut tebal'],\n",
        "            palette='viridis')\n",
        "\n",
        "plt.title('Rata-rata Penyewaan Sepeda berdasarkan Musim dan Cuaca')\n",
        "plt.xlabel('Musim')\n",
        "plt.ylabel('Rata-rata Penyewaan')\n",
        "plt.legend(title='Kondisi Cuaca', bbox_to_anchor=(1.05, 1), loc='upper left')\n",
        "plt.tight_layout()\n",
        "plt.show()"
      ]
    },
    {
      "cell_type": "markdown",
      "metadata": {},
      "source": [
        "**Insight:**\n",
        "- Rata-rata jumlah penyewaan sepeda tertinggi terjadi pada musim panas dengan kondisi cuaca Cerah, Sedikit berawan, Sebagian berawan, Sebagian berawan.\n",
        "- Rata-rata jumlah penyewaan sepeda terendah terjadi pada musim semi dengan kondisi Salju ringan, Hujan ringan + Petir + Awan terpisah, Hujan ringan + Awan terpisah.\n",
        "- Tidak ada data penyewaan di kondisi cuaca Hujan lebat + Butiran es + Petir + Kabut, Salju + Kabut tebal."
      ]
    },
    {
      "cell_type": "markdown",
      "metadata": {},
      "source": [
        "### Pertanyaan 2: Kapan waktu puncak penyewaan sepeda dalam sehari? "
      ]
    },
    {
      "cell_type": "code",
      "execution_count": 108,
      "metadata": {},
      "outputs": [
        {
          "data": {
            "image/png": "[encoded data removed]",
            "text/plain": [
              "<Figure size 1000x500 with 1 Axes>"
            ]
          },
          "metadata": {},
          "output_type": "display_data"
        }
      ],
      "source": [
        "# Muat data dan hitung rata-rata per jam\n",
        "hourly_avg = hour_df.groupby('hr')['cnt'].mean().reset_index()\n",
        "\n",
        "# Cari jam dengan nilai penyewaan tertinggi\n",
        "peak_hour = hourly_avg.loc[hourly_avg['cnt'].idxmax()]\n",
        "\n",
        "# Buat plotting\n",
        "plt.figure(figsize=(10, 5))\n",
        "\n",
        "# Plot semua jam\n",
        "plt.plot(hourly_avg['hr'], hourly_avg['cnt'], \n",
        "         marker='o', color='blue', label='Rata-rata per jam')\n",
        "\n",
        "# Highlight peak hour\n",
        "plt.scatter(peak_hour['hr'], peak_hour['cnt'], \n",
        "            color='red', s=100, label=f'Puncak: Pukul {int(peak_hour[\"hr\"])}:00')\n",
        "\n",
        "# Tambahkan label dan legend\n",
        "plt.title('Rata-rata Penyewaan Sepeda per Jam')\n",
        "plt.xlabel('Jam dalam sehari (0-23)')\n",
        "plt.ylabel('Jumlah Penyewaan')\n",
        "plt.xticks(range(0, 24))\n",
        "plt.grid(True)\n",
        "plt.legend()\n",
        "plt.tight_layout()\n",
        "plt.show()"
      ]
    },
    {
      "cell_type": "markdown",
      "metadata": {},
      "source": [
        "**Insight:**\n",
        "- Rata-rata puncak penyewaan sepeda dalam sehari terjadi pada pukul 17:00"
      ]
    },
    {
      "cell_type": "markdown",
      "metadata": {},
      "source": [
        "### Pertanyaan 3: Bagaimana tren pertumbuhan pengguna dari tahun 2011 ke 2012?"
      ]
    },
    {
      "cell_type": "code",
      "execution_count": 109,
      "metadata": {},
      "outputs": [
        {
          "data": {
            "image/png": "[encoded data removed]",
            "text/plain": [
              "<Figure size 1200x600 with 1 Axes>"
            ]
          },
          "metadata": {},
          "output_type": "display_data"
        }
      ],
      "source": [
        "# Mapping tahun\n",
        "day_df['year'] = day_df['yr'].map({0: '2011', 1: '2012'})\n",
        "\n",
        "# Hitung rata-rata penyewaan per bulan\n",
        "monthly_avg = day_df.groupby(['year', 'mnth'])['cnt'].mean().reset_index()\n",
        "\n",
        "# Buat plotting\n",
        "plt.figure(figsize=(12, 6))\n",
        "\n",
        "# Plot setiap tahun dan tandai peak-nya\n",
        "for year in ['2011', '2012']:\n",
        "    year_data = monthly_avg[monthly_avg['year'] == year]\n",
        "    \n",
        "    # Plot garis utama\n",
        "    plt.plot(year_data['mnth'], year_data['cnt'], \n",
        "             marker='o', label=year, linewidth=2)\n",
        "    \n",
        "    # Temukan dan tandai peak\n",
        "    peak_month = year_data.loc[year_data['cnt'].idxmax()]\n",
        "    plt.scatter(peak_month['mnth'], peak_month['cnt'], \n",
        "                color='red', s=100, zorder=5)\n",
        "\n",
        "# Tambahkan judul dan legend\n",
        "plt.title('Tren Bulanan Penyewaan Sepeda (2011 vs 2012)')\n",
        "plt.xlabel('Bulan')\n",
        "plt.ylabel('Rata-rata Penyewaan')\n",
        "plt.xticks(range(1, 13), ['Jan', 'Feb', 'Mar', 'Apr', 'Mei', 'Jun', \n",
        "                         'Jul', 'Agu', 'Sep', 'Okt', 'Nov', 'Des'])\n",
        "plt.grid(True)\n",
        "plt.legend()\n",
        "plt.tight_layout()\n",
        "plt.show()"
      ]
    },
    {
      "cell_type": "markdown",
      "metadata": {},
      "source": [
        "**Insight:**\n",
        "- Berdasarkan grafik yang ditampilkan, tren pertumbuhan pengguna dari tahun 2011 ke 2012 menunjukkan peningkatan yang signifikan. \n",
        "- Sepanjang tahun 2012, rata-rata jumlah penyewaan sepeda secara konsisten lebih tinggi dibandingkan tahun 2011\n",
        "- Pada bulan Maret, terjadi lonjakan yang cukup besar dalam jumlah penyewaan sepeda untuk tahun 2012 dibandingkan tahun sebelumnya\n",
        "- Tahun 2012 mencapai puncak penyewaan di bulan September, sementara puncak penyewaan di tahun 2011 terjadi di bulan Juni\n",
        "- Kedua tahun menunjukkan pola yang serupa yaitu peningkatan di awal tahun, mencapai puncak di pertengahan tahun, dan kemudian menurun di akhir tahun.\n",
        "- Angka penyewaan di tahun 2012 secara keseluruhan lebih tinggi."
      ]
    },
    {
      "cell_type": "markdown",
      "metadata": {
        "id": "_WeHlCeX8DC2"
      },
      "source": [
        "## Conclusion"
      ]
    },
    {
      "cell_type": "markdown",
      "metadata": {
        "id": "ZTcyR48Y8DC2"
      },
      "source": [
        "- Kesimpulan pertanyaan 1: Pada musim dan cuaca apa jumlah penyewaan sepeda tertinggi dan terendah?\n",
        "\n",
        "    Rata-rata jumlah penyewaan sepeda tertinggi terjadi pada musim panas dengan kondisi cuaca Cerah, Sedikit berawan, Sebagian berawan, Sebagian berawan.\n",
        "    Rata-rata jumlah penyewaan sepeda terendah terjadi pada musim semi dengan kondisi Salju ringan, Hujan ringan + Petir + Awan terpisah, Hujan ringan + Awan terpisah.\n",
        "    Tidak ada data penyewaan di kondisi cuaca Hujan lebat + Butiran es + Petir + Kabut, Salju + Kabut tebal.\n",
        "\n",
        "\n",
        "- Kesimpulan pertanyaan 2: Kapan waktu puncak penyewaan sepeda dalam sehari? \n",
        "\n",
        "    Rata-rata puncak penyewaan sepeda dalam sehari terjadi pada pukul 17:00\n",
        "\n",
        "- Kesimpulan pertanyaan 3: Bagaimana tren pertumbuhan pengguna dari tahun 2011 ke 2012?\n",
        "    \n",
        "    Tren pertumbuhan pengguna dari tahun 2011 ke 2012 menunjukkan peningkatan yang signifikan. Sepanjang tahun 2012, rata-rata jumlah penyewaan sepeda secara konsisten lebih tinggi dibandingkan tahun 2011. Pada bulan Maret, terjadi lonjakan yang cukup besar dalam jumlah penyewaan sepeda untuk tahun 2012 dibandingkan tahun sebelumnya. Puncak penyewaan tahun 2012 terjadi di bulan September, sementara puncak penyewaan di tahun 2011 terjadi di bulan Juni.\n",
        "    \n",
        "    Kedua tahun menunjukkan pola yang serupa yaitu peningkatan di awal tahun, mencapai puncak di pertengahan tahun, dan kemudian menurun di akhir tahun. Angka penyewaan di tahun 2012 secara keseluruhan lebih tinggi."
      ]
    }
  ],
  "metadata": {
    "colab": {
      "provenance": []
    },
    "kernelspec": {
      "display_name": ".venv",
      "language": "python",
      "name": "python3"
    },
    "language_info": {
      "codemirror_mode": {
        "name": "ipython",
        "version": 3
      },
      "file_extension": ".py",
      "mimetype": "text/x-python",
      "name": "python",
      "nbconvert_exporter": "python",
      "pygments_lexer": "ipython3",
      "version": "3.13.2"
    },
    "orig_nbformat": 4
  },
  "nbformat": 4,
  "nbformat_minor": 0
}
